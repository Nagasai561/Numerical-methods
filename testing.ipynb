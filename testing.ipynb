{
 "cells": [
  {
   "cell_type": "code",
   "execution_count": 22,
   "metadata": {},
   "outputs": [
    {
     "name": "stdout",
     "output_type": "stream",
     "text": [
      "5.25\n",
      "5.25\n"
     ]
    },
    {
     "data": {
      "text/plain": [
       "<module 'integration' from '/home/nagasaij/Desktop/Code/Numerical_methods/integration.py'>"
      ]
     },
     "execution_count": 22,
     "metadata": {},
     "output_type": "execute_result"
    }
   ],
   "source": [
    "import integration \n",
    "import math as m\n",
    "import importlib\n",
    "importlib.reload(integration)\n"
   ]
  },
  {
   "cell_type": "code",
   "execution_count": 18,
   "metadata": {},
   "outputs": [
    {
     "name": "stdout",
     "output_type": "stream",
     "text": [
      "\n",
      "Composite rectangular method -----\n",
      "with 5 intervals: Area is  275.03999999999996  Error is  91.62666666666604\n",
      "with 10 intervals: Area is  319.36  Error is  47.30666666666599\n",
      "\n",
      "Composite midpoint method -----\n",
      "with 5 intervals: Area is  363.67999999999995  Error is  2.9866666666660535\n",
      "with 10 intervals: Area is  365.91999999999996  Error is  0.7466666666660444\n",
      "\n",
      "Composite trapezoidal method -----\n",
      "with 5 intervals: Area is  372.64  Error is  5.973333333333983\n",
      "with 10 intervals: Area is  368.15999999999997  Error is  1.4933333333339647\n",
      "\n",
      "Composite simpson method -----\n",
      "with 5 intervals: Area is  366.66666666666663  Error is  6.252776074688882e-13\n",
      "with 10 intervals: Area is  366.6666666666667  Error is  6.821210263296962e-13\n"
     ]
    }
   ],
   "source": [
    "#problem 1\n",
    "func1 = lambda x: x**3+5*x**2+1\n",
    "actual_ans1 = 366.666666666666\n",
    "print(\"\\nComposite rectangular method -----\")\n",
    "for size in [5, 10]:\n",
    "    x = integration.composite_rectangular_rule(func1, 1, 5, size)\n",
    "    error = abs(actual_ans1-x)\n",
    "    print(f\"with {size} intervals: Area is \", x, \" Error is \", error)\n",
    "\n",
    "print(\"\\nComposite midpoint method -----\")\n",
    "for size in [5, 10]:\n",
    "    x = integration.composite_midpoint_rule(func1, 1, 5, size)\n",
    "    error = abs(actual_ans1-x)\n",
    "    print(f\"with {size} intervals: Area is \", x, \" Error is \", error)\n",
    "\n",
    "print(\"\\nComposite trapezoidal method -----\")\n",
    "for size in [5, 10]:\n",
    "    x = integration.composite_trapezoidal_rule(func1, 1, 5, size)\n",
    "    error = abs(actual_ans1-x)\n",
    "    print(f\"with {size} intervals: Area is \", x, \" Error is \", error)\n",
    "\n",
    "print(\"\\nComposite simpson method -----\")\n",
    "for size in [5, 10]:\n",
    "    x = integration.composite_simpson_rule(func1, 1, 5, size)\n",
    "    error = abs(actual_ans1-x)\n",
    "    print(f\"with {size} intervals: Area is \", x, \" Error is \", error)\n",
    "\n"
   ]
  },
  {
   "cell_type": "code",
   "execution_count": 11,
   "metadata": {},
   "outputs": [
    {
     "name": "stdout",
     "output_type": "stream",
     "text": [
      "one point, Value is:  1.1107207345395915  Error is:  0.11072073453959153\n",
      "two point, Value is:  1.279395491456699  Error is:  0.27939549145669895\n"
     ]
    }
   ],
   "source": [
    "#problem 3\n",
    "func3 = lambda x: x*m.sin(x)\n",
    "actual_ans3 = 1\n",
    "\n",
    "onepoint = integration.gauss_quadrature_onepoint(func3, 0, m.pi/2)\n",
    "twopoint = integration.gauss_quadrature_twopoints(func3, 0, m.pi/2)\n",
    "print(\"one point, Value is: \", onepoint, \" Error is: \", abs(actual_ans3-onepoint))\n",
    "print(\"two point, Value is: \", twopoint, \" Error is: \", abs(actual_ans3-twopoint))\n"
   ]
  },
  {
   "cell_type": "code",
   "execution_count": 24,
   "metadata": {},
   "outputs": [
    {
     "name": "stdout",
     "output_type": "stream",
     "text": [
      "0.42955439362739267\n"
     ]
    }
   ],
   "source": [
    "#problem 5\n",
    "func5 = lambda x, y: m.log(2*x+y)\n",
    "print(integration.twoD_simpson_rule(func5, 1, 1.5, 2, 1.4, 2.0,4))\n",
    "\n"
   ]
  },
  {
   "cell_type": "code",
   "execution_count": 14,
   "metadata": {},
   "outputs": [
    {
     "name": "stdout",
     "output_type": "stream",
     "text": [
      "2.302585092994046\n"
     ]
    }
   ],
   "source": [
    "#problem 5"
   ]
  }
 ],
 "metadata": {
  "kernelspec": {
   "display_name": "Python 3",
   "language": "python",
   "name": "python3"
  },
  "language_info": {
   "codemirror_mode": {
    "name": "ipython",
    "version": 3
   },
   "file_extension": ".py",
   "mimetype": "text/x-python",
   "name": "python",
   "nbconvert_exporter": "python",
   "pygments_lexer": "ipython3",
   "version": "3.10.12"
  },
  "orig_nbformat": 4
 },
 "nbformat": 4,
 "nbformat_minor": 2
}
