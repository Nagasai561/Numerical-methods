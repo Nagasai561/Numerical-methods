{
 "cells": [
  {
   "cell_type": "code",
   "execution_count": 138,
   "metadata": {},
   "outputs": [
    {
     "data": {
      "text/plain": [
       "<module 'ode' from 'd:\\\\Git Hub projects\\\\Numerical_methods\\\\ode.py'>"
      ]
     },
     "execution_count": 138,
     "metadata": {},
     "output_type": "execute_result"
    }
   ],
   "source": [
    "import ode\n",
    "import importlib\n",
    "import math\n",
    "importlib.reload(ode)"
   ]
  },
  {
   "cell_type": "code",
   "execution_count": 126,
   "metadata": {},
   "outputs": [
    {
     "name": "stdout",
     "output_type": "stream",
     "text": [
      "5.30750818139328\n",
      "5.305363000692654\n",
      "5.307209693428714\n"
     ]
    }
   ],
   "source": [
    "def func(xy):\n",
    "    return xy[1]-xy[0]**2+1\n",
    "\n",
    "def shit(xy):\n",
    "    return func(xy)-2*xy[0]\n",
    "\n",
    "# print(ode.adam_bashforth_order4(func, [0, 0.5], 0.2, 1, [0.2, 0.8292933], [0.4, 1.2140762], [0.6, 1.6489220]))\n",
    "# print(ode.adam_moulton_order4(func, [0, 0.5], 0.2, 2))\n",
    "print(ode.adam_bashforth_order4(func, [0, 0.5], 0.2, 2))\n",
    "print(ode.runge_kutta_order4(func, [0, 0.5], 0.2, 2))\n",
    "print(ode.predictor_corrector(func, [0, 0.5], 0.2, 2))"
   ]
  },
  {
   "cell_type": "code",
   "execution_count": 137,
   "metadata": {},
   "outputs": [
    {
     "name": "stdout",
     "output_type": "stream",
     "text": [
      "[0.5, 1.7889930594945458, 1.0114150659527794]\n"
     ]
    }
   ],
   "source": [
    "func_list = [lambda u : -4*u[1]+3*u[2]+6, lambda u: -2.4*u[1]+1.6*u[2]+3.6]\n",
    "print(ode.runge_kutta_order4_higher(func_list, [0, 0, 0], 0.1, 0.5))"
   ]
  },
  {
   "cell_type": "code",
   "execution_count": 142,
   "metadata": {},
   "outputs": [
    {
     "name": "stdout",
     "output_type": "stream",
     "text": [
      "[0.8999999999999999, -0.5672688932468458, 1.5213878478992435]\n"
     ]
    }
   ],
   "source": [
    "func_list = [lambda u: u[2], lambda u: math.exp(2*u[0])*math.sin(u[0])-2*u[1]+2*u[2]]\n",
    "print(ode.runge_kutta_order4_higher(func_list, [0, -0.4, -0.6], 0.1, 0.9))"
   ]
  }
 ],
 "metadata": {
  "kernelspec": {
   "display_name": "Python 3",
   "language": "python",
   "name": "python3"
  },
  "language_info": {
   "codemirror_mode": {
    "name": "ipython",
    "version": 3
   },
   "file_extension": ".py",
   "mimetype": "text/x-python",
   "name": "python",
   "nbconvert_exporter": "python",
   "pygments_lexer": "ipython3",
   "version": "3.11.0"
  },
  "orig_nbformat": 4
 },
 "nbformat": 4,
 "nbformat_minor": 2
}
